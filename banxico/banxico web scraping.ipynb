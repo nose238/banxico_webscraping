{
 "cells": [
  {
   "cell_type": "code",
   "execution_count": 1,
   "id": "d961ae7d",
   "metadata": {},
   "outputs": [],
   "source": [
    "from selenium import webdriver\n",
    "import time\n",
    "import glob\n",
    "import os"
   ]
  },
  {
   "cell_type": "code",
   "execution_count": 2,
   "id": "afab70a9",
   "metadata": {},
   "outputs": [],
   "source": [
    "# Descargar chromedriver: https://sites.google.com/a/chromium.org/chromedriver/downloads\n",
    "directorio_descargas = r\"E:\\Users\\emarquezf\\Desktop\\BANXICO\\web scraping\\banxico\\descargas\"\n",
    "chromedriver = r\"E:\\Users\\emarquezf\\Desktop\\BANXICO\\web scraping\\banxico\\chromedriver_win32\\chromedriver.exe\"\n",
    "\n",
    "chromeOptions = webdriver.ChromeOptions()\n",
    "prefs = {\"download.default_directory\" : directorio_descargas, \n",
    "         \"directory_upgrade\": True}\n",
    "chromeOptions.add_experimental_option(\"prefs\", prefs)\n",
    "chromeOptions.add_argument(\"--start-maximized\")\n",
    "browser = webdriver.Chrome(executable_path=chromedriver, options=chromeOptions)\n",
    "browser.get(\"https://www.banxico.org.mx/PortalTranspCompSistFin/\")\n",
    "time.sleep(10)"
   ]
  },
  {
   "cell_type": "code",
   "execution_count": 3,
   "id": "0841a476",
   "metadata": {},
   "outputs": [
    {
     "ename": "PermissionError",
     "evalue": "[WinError 5] Acceso denegado: 'E:\\\\Users\\\\emarquezf\\\\Desktop\\\\BANXICO\\\\web scraping\\\\banxico\\\\descargas\\\\tarjetasCredito'",
     "output_type": "error",
     "traceback": [
      "\u001b[1;31m---------------------------------------------------------------------------\u001b[0m",
      "\u001b[1;31mPermissionError\u001b[0m                           Traceback (most recent call last)",
      "\u001b[1;32m<ipython-input-3-12a6caff9290>\u001b[0m in \u001b[0;36m<module>\u001b[1;34m\u001b[0m\n\u001b[0;32m      1\u001b[0m \u001b[1;31m# Eliminia archivos anteriores\u001b[0m\u001b[1;33m\u001b[0m\u001b[1;33m\u001b[0m\u001b[1;33m\u001b[0m\u001b[0m\n\u001b[0;32m      2\u001b[0m \u001b[1;32mfor\u001b[0m \u001b[0mf\u001b[0m \u001b[1;32min\u001b[0m \u001b[0mos\u001b[0m\u001b[1;33m.\u001b[0m\u001b[0mlistdir\u001b[0m\u001b[1;33m(\u001b[0m\u001b[0mdirectorio_descargas\u001b[0m\u001b[1;33m)\u001b[0m\u001b[1;33m:\u001b[0m\u001b[1;33m\u001b[0m\u001b[1;33m\u001b[0m\u001b[0m\n\u001b[1;32m----> 3\u001b[1;33m     \u001b[0mos\u001b[0m\u001b[1;33m.\u001b[0m\u001b[0mremove\u001b[0m\u001b[1;33m(\u001b[0m\u001b[0mos\u001b[0m\u001b[1;33m.\u001b[0m\u001b[0mpath\u001b[0m\u001b[1;33m.\u001b[0m\u001b[0mjoin\u001b[0m\u001b[1;33m(\u001b[0m\u001b[0mdirectorio_descargas\u001b[0m\u001b[1;33m,\u001b[0m \u001b[0mf\u001b[0m\u001b[1;33m)\u001b[0m\u001b[1;33m)\u001b[0m\u001b[1;33m\u001b[0m\u001b[1;33m\u001b[0m\u001b[0m\n\u001b[0m",
      "\u001b[1;31mPermissionError\u001b[0m: [WinError 5] Acceso denegado: 'E:\\\\Users\\\\emarquezf\\\\Desktop\\\\BANXICO\\\\web scraping\\\\banxico\\\\descargas\\\\tarjetasCredito'"
     ]
    }
   ],
   "source": [
    "# Eliminia archivos anteriores\n",
    "for f in os.listdir(directorio_descargas):\n",
    "    os.remove(os.path.join(directorio_descargas, f))"
   ]
  },
  {
   "cell_type": "code",
   "execution_count": null,
   "id": "e36ec17d",
   "metadata": {
    "scrolled": true
   },
   "outputs": [],
   "source": [
    "# A veces sale un mensaje de bienvenida en la página de Banxico. Con esto se continua a la página principal\n",
    "try:\n",
    "    btn_continuar = browser.find_element_by_xpath(\"/html/body/div[1]/div[2]/div/div/div[4]/button\")\n",
    "    btn_continuar.click()\n",
    "    print(\"Salió el mensaje de bienvenida\")\n",
    "except:\n",
    "    print(\"No salió el mensaje de bienvenida\")"
   ]
  },
  {
   "cell_type": "markdown",
   "id": "15d00a24",
   "metadata": {},
   "source": [
    "# Tarjeta de crédito"
   ]
  },
  {
   "cell_type": "markdown",
   "id": "7ada3df4",
   "metadata": {},
   "source": [
    "#### Descarga Series de tiempo de tarjeta de crédito (Atraso: Todos)"
   ]
  },
  {
   "cell_type": "code",
   "execution_count": null,
   "id": "41a2ef46",
   "metadata": {},
   "outputs": [],
   "source": [
    "# Entra al apartado de tardejas de crédito\n",
    "time.sleep(2)\n",
    "btn_tarjetas_credito = browser.find_element_by_xpath(\"/html/body/div[1]/div[1]/div[2]/div/div[1]/div[3]/div[2]/div/div[1]/img\")\n",
    "btn_tarjetas_credito.click()"
   ]
  },
  {
   "cell_type": "code",
   "execution_count": null,
   "id": "33ce2b75",
   "metadata": {},
   "outputs": [],
   "source": [
    "# Entra al detalle de Series de tiempo de variables e instituciones\n",
    "time.sleep(8)\n",
    "detalle = browser.find_element_by_xpath(\"/html/body/div[1]/div[1]/div[2]/div/div[1]/div[3]/div[2]/div[1]/div/div[5]/p[3]/a\")\n",
    "detalle.click()"
   ]
  },
  {
   "cell_type": "code",
   "execution_count": null,
   "id": "2174fea1",
   "metadata": {},
   "outputs": [],
   "source": [
    "# Configura variables en \"Todo\"\n",
    "time.sleep(1)\n",
    "#    \"Universo de análisis\"\n",
    "conf_todo = browser.find_element_by_xpath(\"/html/body/div[1]/div[1]/div[2]/div/div[1]/div[3]/div[2]/nav/div/div/ul/li[1]/a\")\n",
    "conf_todo.click() \n",
    "time.sleep(1)\n",
    "conf_todo = browser.find_element_by_xpath(\"/html/body/div[1]/div[1]/div[2]/div/div[1]/div[3]/div[2]/nav/div/div/ul/li[1]/div/div/div[2]/div/div/button[1]\")\n",
    "conf_todo.click() # Todo\n",
    "time.sleep(1)\n",
    "#    \"Tipo de cliente\"\n",
    "conf_todo = browser.find_element_by_xpath(\"/html/body/div[1]/div[1]/div[2]/div/div[1]/div[3]/div[2]/nav/div/div/ul/li[2]/a\")\n",
    "conf_todo.click()\n",
    "time.sleep(1)\n",
    "conf_todo = browser.find_element_by_xpath(\"/html/body/div[1]/div[1]/div[2]/div/div[1]/div[3]/div[2]/nav/div/div/ul/li[2]/div/div/div[2]/div/button[3]\")\n",
    "conf_todo.click() # Todos\n",
    "time.sleep(1)\n",
    "#     \"Clase de tarjeta\"\n",
    "conf_todo = browser.find_element_by_xpath(\"/html/body/div[1]/div[1]/div[2]/div/div[1]/div[3]/div[2]/nav/div/div/ul/li[3]/a\")\n",
    "conf_todo.click()\n",
    "time.sleep(1)\n",
    "conf_todo = browser.find_element_by_xpath(\"/html/body/div[1]/div[1]/div[2]/div/div[1]/div[3]/div[2]/nav/div/div/ul/li[3]/div/div/div[2]/div/button[3]\")\n",
    "conf_todo.click() # Clase de tarjeta: Oro"
   ]
  },
  {
   "cell_type": "code",
   "execution_count": null,
   "id": "980c8dc7",
   "metadata": {},
   "outputs": [],
   "source": [
    "sufijo_SeriesDeTiempo = \"SeriesDeTiempo(atraso_todas)_\"\n",
    "nombres_de_archivos = [\"numeroDeTarjetas\", \"saldoTotal\", \"saldoRevolventePromedio\", \"saldoPromedioPMSI\",\n",
    "                       \"saldoPromedioPMCI\", \"limiteDeCreditoProm\", \"TEsinPromociones\", \"TEconPromociones\",\n",
    "                       \"TE_PCI\", \"CATpromPondXsaldo\"]\n",
    "ext = \".xlsx\""
   ]
  },
  {
   "cell_type": "code",
   "execution_count": null,
   "id": "0976f13e",
   "metadata": {},
   "outputs": [],
   "source": [
    "# Bucle para descargar todas las variables de series de tiempo\n",
    "for x in range (1, 11):\n",
    "    #    \"Variable de interes\"\n",
    "    conf_todo = browser.find_element_by_xpath(\"/html/body/div[1]/div[1]/div[2]/div/div[1]/div[3]/div[2]/nav/div/div/ul/li[5]/a\")\n",
    "    conf_todo.click()\n",
    "    time.sleep(1)\n",
    "    conf_todo = browser.find_element_by_xpath(\"/html/body/div[1]/div[1]/div[2]/div/div[1]/div[3]/div[2]/nav/div/div/ul/li[5]/div/div/form/label[\"+str(x)+\"]\")\n",
    "    conf_todo.click()\n",
    "    time.sleep(1)\n",
    "    #    Genera gráfico \n",
    "    mouse = browser.find_element_by_xpath(\"/html/body/div[1]/div[1]/div[2]/div/div[1]/div[3]/div[2]/nav/div/div/ul/li[7]/a/label\")\n",
    "    mouse.click()\n",
    "    time.sleep(8)\n",
    "    descargar = browser.find_element_by_xpath(\"/html/body/div[1]/div[1]/div[2]/div/div[1]/div[3]/div[2]/div/div[2]/input\")\n",
    "    descargar.click()\n",
    "    time.sleep(2)\n",
    "    # Selecciona todas las instituciones\n",
    "    descargar = browser.find_element_by_xpath(\"/html/body/div[1]/div[1]/div[2]/div/div[1]/div[4]/div/div/div[2]/div[1]/div/div[2]/label\")\n",
    "    descargar.click()\n",
    "    descargar = browser.find_element_by_xpath(\"/html/body/div[1]/div[1]/div[2]/div/div[1]/div[4]/div/div/div[2]/div[2]/button\")\n",
    "    descargar.click()\n",
    "    time.sleep(10)\n",
    "    list_of_files = glob.glob(directorio_descargas+r\"\\*\") \n",
    "    latest_file = max(list_of_files, key=os.path.getctime)\n",
    "    print(latest_file)\n",
    "    os.rename(latest_file, f\"{directorio_descargas}\\\\{sufijo_SeriesDeTiempo}{nombres_de_archivos[x-1]}{ext}\")"
   ]
  },
  {
   "cell_type": "markdown",
   "id": "e31b28d8",
   "metadata": {},
   "source": [
    "#### Descarga series de tiempo de tarjeta de crédito (Atraso: Sin atraso) "
   ]
  },
  {
   "cell_type": "code",
   "execution_count": null,
   "id": "b019fbe1",
   "metadata": {},
   "outputs": [],
   "source": [
    "time.sleep(1)\n",
    "conf_todo = browser.find_element_by_xpath(\"/html/body/div[1]/div[1]/div[2]/div/div[1]/div[3]/div[2]/nav/div/div/ul/li[1]/a\")\n",
    "conf_todo.click() \n",
    "time.sleep(1)\n",
    "conf_todo = browser.find_element_by_xpath(\"/html/body/div[1]/div[1]/div[2]/div/div[1]/div[3]/div[2]/nav/div/div/ul/li[1]/div/div/div[4]/div[3]/form/input[1]\")\n",
    "conf_todo.click() # Atraso: Sin atraso"
   ]
  },
  {
   "cell_type": "code",
   "execution_count": null,
   "id": "b1790a79",
   "metadata": {},
   "outputs": [],
   "source": [
    "sufijo_SeriesDeTiempo = \"SeriesDeTiempo(atraso_SinAtraso)_\"\n",
    "nombres_de_archivos = [\"numeroDeTarjetas\", \"saldoTotal\", \"saldoRevolventePromedio\", \"saldoPromedioPMSI\",\n",
    "                       \"saldoPromedioPMCI\", \"limiteDeCreditoProm\", \"TEsinPromociones\", \"TEconPromociones\",\n",
    "                       \"TE_PCI\", \"CATpromPondXsaldo\"]\n",
    "ext = \".xlsx\""
   ]
  },
  {
   "cell_type": "code",
   "execution_count": null,
   "id": "a288519b",
   "metadata": {},
   "outputs": [],
   "source": [
    "# Bucle para descargar todas las variables de series de tiempo\n",
    "for x in range (1, 11):\n",
    "    #    \"Variable de interes\"\n",
    "    conf_todo = browser.find_element_by_xpath(\"/html/body/div[1]/div[1]/div[2]/div/div[1]/div[3]/div[2]/nav/div/div/ul/li[5]/a\")\n",
    "    conf_todo.click()\n",
    "    time.sleep(1)\n",
    "    conf_todo = browser.find_element_by_xpath(\"/html/body/div[1]/div[1]/div[2]/div/div[1]/div[3]/div[2]/nav/div/div/ul/li[5]/div/div/form/label[\"+str(x)+\"]\")\n",
    "    conf_todo.click()\n",
    "    time.sleep(1)\n",
    "    #    Genera gráfico \n",
    "    mouse = browser.find_element_by_xpath(\"/html/body/div[1]/div[1]/div[2]/div/div[1]/div[3]/div[2]/nav/div/div/ul/li[7]/a/label\")\n",
    "    mouse.click()\n",
    "    time.sleep(8)\n",
    "    descargar = browser.find_element_by_xpath(\"/html/body/div[1]/div[1]/div[2]/div/div[1]/div[3]/div[2]/div/div[2]/input\")\n",
    "    descargar.click()\n",
    "    time.sleep(2)\n",
    "    # Selecciona todas las instituciones\n",
    "    descargar = browser.find_element_by_xpath(\"/html/body/div[1]/div[1]/div[2]/div/div[1]/div[4]/div/div/div[2]/div[1]/div/div[2]/label\")\n",
    "    descargar.click()\n",
    "    descargar = browser.find_element_by_xpath(\"/html/body/div[1]/div[1]/div[2]/div/div[1]/div[4]/div/div/div[2]/div[2]/button\")\n",
    "    descargar.click()\n",
    "    time.sleep(10)\n",
    "    list_of_files = glob.glob(directorio_descargas+r\"\\*\") \n",
    "    latest_file = max(list_of_files, key=os.path.getctime)\n",
    "    print(latest_file)\n",
    "    os.rename(latest_file, f\"{directorio_descargas}\\\\{sufijo_SeriesDeTiempo}{nombres_de_archivos[x-1]}{ext}\")"
   ]
  },
  {
   "cell_type": "markdown",
   "id": "4bf18c4f",
   "metadata": {},
   "source": [
    "#### Descarga análisis multidimensional de tarjeta de crédito"
   ]
  },
  {
   "cell_type": "code",
   "execution_count": null,
   "id": "43936774",
   "metadata": {},
   "outputs": [],
   "source": [
    "linkTarjetasDeCredito = browser.find_element_by_xpath(\"/html/body/div[1]/div[1]/header/div/div/div[3]/div[2]/div[1]/nav/div/div[2]/ul[1]/li[1]/a\")\n",
    "linkTarjetasDeCredito.click() # Para regresar al menú principal de Tarjeta de crédito\n",
    "time.sleep(5)"
   ]
  },
  {
   "cell_type": "code",
   "execution_count": null,
   "id": "526ed499",
   "metadata": {},
   "outputs": [],
   "source": [
    "# a veces sale una encuesta de satisfacción. Con esto se quita\n",
    "time.sleep(5)\n",
    "try:\n",
    "    encuesta = browser.find_element_by_xpath(\"/html/body/div[1]/div[3]/div/div/div[3]/label/span\")\n",
    "    encuesta.click()\n",
    "    print(\"Salió mensaje de encuesta\")\n",
    "except:\n",
    "    print(\"No salió mensaje de encuesta\")"
   ]
  },
  {
   "cell_type": "code",
   "execution_count": null,
   "id": "6afa25af",
   "metadata": {},
   "outputs": [],
   "source": [
    "browser.refresh()"
   ]
  },
  {
   "cell_type": "code",
   "execution_count": null,
   "id": "c1825b8f",
   "metadata": {},
   "outputs": [],
   "source": [
    "btn_tarjetas_credito.click()"
   ]
  },
  {
   "cell_type": "code",
   "execution_count": null,
   "id": "94e9bc32",
   "metadata": {},
   "outputs": [],
   "source": [
    "time.sleep(2)\n",
    "detalle_analisis_multidimensional = browser.find_element_by_xpath(\"/html/body/div[1]/div[1]/div[2]/div/div[1]/div[3]/div[2]/div[2]/div/div[5]/p[3]/a\")\n",
    "detalle_analisis_multidimensional.click() # Listo para configurar gráfica\n",
    "time.sleep(10)"
   ]
  },
  {
   "cell_type": "code",
   "execution_count": null,
   "id": "19e6dbb6",
   "metadata": {},
   "outputs": [],
   "source": [
    "# Configurar gráfica\n",
    "#   Universo de análisis\n",
    "conf_todo = browser.find_element_by_xpath(\"/html/body/div[1]/div[1]/div[2]/div/div[1]/div[3]/nav/div/div/ul/li[1]/a\")\n",
    "conf_todo.click() # Universo de analisis\n",
    "time.sleep(1)\n",
    "conf_todo = browser.find_element_by_xpath(\"/html/body/div[1]/div[1]/div[2]/div/div[1]/div[3]/nav/div/div/ul/li[1]/div/div/div[2]/div/div/button[1]\")\n",
    "conf_todo.click() # Selecciona todo\n",
    "time.sleep(1)\n",
    "conf_todo = browser.find_element_by_xpath(\"/html/body/div[1]/div[1]/div[2]/div/div[1]/div[3]/nav/div/div/ul/li[1]/div/div/div[4]/div[7]/form/input[2]\")\n",
    "conf_todo.click() # Relación del acreditado: No relacionado\n",
    "time.sleep(1)\n",
    "#   Selección del periodo\n",
    "conf_todo = browser.find_element_by_xpath(\"/html/body/div[1]/div[1]/div[2]/div/div[1]/div[3]/nav/div/div/ul/li[2]/a\")\n",
    "conf_todo.click() \n",
    "time.sleep(1)\n",
    "conf_todo = browser.find_element_by_xpath(\"/html/body/div[1]/div[1]/div[2]/div/div[1]/div[3]/nav/div/div/ul/li[2]/div/div/div[2]/table/tbody/tr[1]/td/div/div[2]/table/tbody/tr[1]/td/label/input\")\n",
    "conf_todo.click() # Todas\n",
    "time.sleep(1)\n",
    "#   Tipo de cliente \n",
    "conf_todo = browser.find_element_by_xpath(\"/html/body/div[1]/div[1]/div[2]/div/div[1]/div[3]/nav/div/div/ul/li[3]/a\")\n",
    "conf_todo.click() # tipo cliente\n",
    "time.sleep(1)\n",
    "conf_todo = browser.find_element_by_xpath(\"/html/body/div[1]/div[1]/div[2]/div/div[1]/div[3]/nav/div/div/ul/li[3]/div/div/div[2]/div/button[3]\")\n",
    "conf_todo.click() # todos\n",
    "time.sleep(1)\n",
    "#   Clase de tarjeta \n",
    "conf_todo = browser.find_element_by_xpath(\"/html/body/div[1]/div[1]/div[2]/div/div[1]/div[3]/nav/div/div/ul/li[4]/a\")\n",
    "conf_todo.click() # clase de tarjeta\n",
    "time.sleep(1)\n",
    "conf_todo = browser.find_element_by_xpath(\"/html/body/div[1]/div[1]/div[2]/div/div[1]/div[3]/nav/div/div/ul/li[4]/div/div/div[2]/div/button[3]\")\n",
    "conf_todo.click() # oro\n",
    "time.sleep(1)"
   ]
  },
  {
   "cell_type": "code",
   "execution_count": null,
   "id": "bd523a5d",
   "metadata": {},
   "outputs": [],
   "source": [
    "sufijo_AnalisisMultiDim = \"AnalisisMultidimensional_\""
   ]
  },
  {
   "cell_type": "code",
   "execution_count": null,
   "id": "04eedb0c",
   "metadata": {},
   "outputs": [],
   "source": [
    "# Bucle para descargar todas las variables de análisis multidimensional\n",
    "for x in range (1, 11):\n",
    "    #    \"Variable de interes\"\n",
    "    conf_todo = browser.find_element_by_xpath(\"/html/body/div[1]/div[1]/div[2]/div/div[1]/div[3]/nav/div/div/ul/li[6]/a\")\n",
    "    conf_todo.click()\n",
    "    time.sleep(1)\n",
    "    conf_todo = browser.find_element_by_xpath(\"/html/body/div[1]/div[1]/div[2]/div/div[1]/div[3]/nav/div/div/ul/li[6]/div/div/form/label[\"+str(x)+\"]\")\n",
    "    conf_todo.click()\n",
    "    time.sleep(1)\n",
    "    #    Genera gráfico \n",
    "    mouse = browser.find_element_by_xpath(\"/html/body/div[1]/div[1]/div[2]/div/div[1]/div[3]/nav/div/div/ul/li[8]/a\")\n",
    "    mouse.click()\n",
    "    time.sleep(15)\n",
    "    descargar = browser.find_element_by_xpath(\"/html/body/div[1]/div[1]/div[2]/div/div[1]/div[3]/div[2]/div[2]/input\")\n",
    "    descargar.click()\n",
    "    time.sleep(2)\n",
    "    # Selecciona todas las instituciones\n",
    "    descargar = browser.find_element_by_xpath(\"/html/body/div[1]/div[1]/div[2]/div/div[1]/div[4]/div/div/div[2]/div[1]/div/div[2]/label\")\n",
    "    descargar.click()\n",
    "    descargar = browser.find_element_by_xpath(\"/html/body/div[1]/div[1]/div[2]/div/div[1]/div[4]/div/div/div[2]/div[2]/button\")\n",
    "    descargar.click()\n",
    "    time.sleep(20)\n",
    "    list_of_files = glob.glob(directorio_descargas+r\"\\*\") \n",
    "    latest_file = max(list_of_files, key=os.path.getctime)\n",
    "    print(latest_file)\n",
    "    os.rename(latest_file, f\"{directorio_descargas}\\\\{sufijo_AnalisisMultiDim}{nombres_de_archivos[x-1]}{ext}\")"
   ]
  },
  {
   "cell_type": "code",
   "execution_count": null,
   "id": "34e22b19",
   "metadata": {},
   "outputs": [],
   "source": [
    "time.sleep(5)\n",
    "browser.close()"
   ]
  },
  {
   "cell_type": "markdown",
   "id": "cd3984f1",
   "metadata": {},
   "source": [
    "# Credito personal y microcrédito"
   ]
  },
  {
   "cell_type": "code",
   "execution_count": null,
   "id": "37b9c4e0",
   "metadata": {},
   "outputs": [],
   "source": [
    "# Entra al apartado de tardejas de crédito\n",
    "browser.get(\"https://www.banxico.org.mx/PortalTranspCompSistFin/\")\n",
    "time.sleep(10)\n",
    "# A veces sale un mensaje de bienvenida en la página de Banxico. Con esto se continua a la página principal\n",
    "try:\n",
    "    btn_continuar = browser.find_element_by_xpath(\"/html/body/div[1]/div[2]/div/div/div[4]/button\")\n",
    "    btn_continuar.click()\n",
    "    print(\"Salió el mensaje de bienvenida\")\n",
    "except:\n",
    "    print(\"No salió el mensaje de bienvenida\")\n"
   ]
  },
  {
   "cell_type": "code",
   "execution_count": null,
   "id": "3abd4d89",
   "metadata": {},
   "outputs": [],
   "source": [
    "# Botón de crédito personal y microcrédito\n",
    "btn_credito_personal_microcredito = browser.find_element_by_xpath(\"/html/body/div[1]/div[1]/div[2]/div/div[1]/div[3]/div[2]/div/div[2]/img\")\n",
    "btn_credito_personal_microcredito.click()"
   ]
  },
  {
   "cell_type": "markdown",
   "id": "ec4b3f45",
   "metadata": {},
   "source": [
    "### Multidimensional"
   ]
  },
  {
   "cell_type": "markdown",
   "id": "c39a6843",
   "metadata": {},
   "source": [
    "### Cartera Vencida"
   ]
  },
  {
   "cell_type": "code",
   "execution_count": null,
   "id": "ffd11bf1",
   "metadata": {},
   "outputs": [],
   "source": [
    "# Análisis multidimensional\n",
    "mouse = browser.find_element_by_xpath(\"/html/body/div[1]/div[1]/div[2]/div/div[1]/div[3]/div[2]/div[2]/div/div[5]/p[3]/a\")\n",
    "mouse.click() # Para entrar a análisis multidimensional\n",
    "time.sleep(10)\n",
    "# Configurar en todo\n",
    "mouse = browser.find_element_by_xpath(\"/html/body/div[1]/div[1]/div[2]/div/div[1]/div[3]/nav/div/div/ul/li[1]/a\")\n",
    "mouse.click() # Universo de análsis\n",
    "time.sleep(1)\n",
    "mouse = browser.find_element_by_xpath(\"/html/body/div[1]/div[1]/div[2]/div/div[1]/div[3]/nav/div/div/ul/li[1]/div/div/div[2]/div/div/button[1]\")\n",
    "mouse.click() # Universo de análsis - Todo\n",
    "time.sleep(1)\n",
    "\n",
    "mouse = browser.find_element_by_xpath(\"/html/body/div[1]/div[1]/div[2]/div/div[1]/div[3]/nav/div/div/ul/li[1]/div/div/div[4]/div[5]/form/input[1]\")\n",
    "mouse.click() # Tipo de cartera - Vigente\n",
    "time.sleep(1)\n",
    "\n",
    "mouse = browser.find_element_by_xpath(\"/html/body/div[1]/div[1]/div[2]/div/div[1]/div[3]/nav/div/div/ul/li[2]/a\")\n",
    "mouse.click() # Tipo de crédito\n",
    "time.sleep(1)\n",
    "# mouse = browser.find_element_by_xpath(\"/html/body/div[1]/div[1]/div[2]/div/div[1]/div[3]/nav/div/div/ul/li[2]/div/div/div[2]/div/button[2]\")\n",
    "# mouse.click() # Tipo de crédito - Personal\n",
    "time.sleep(1)\n"
   ]
  },
  {
   "cell_type": "code",
   "execution_count": null,
   "id": "756b25dd",
   "metadata": {},
   "outputs": [],
   "source": [
    "sufijo= \"CreditoPersonalAnalisisMultidimensional_CarteraVigente\"\n",
    "nombres_de_archivos = [\"NumCreditos\", \"MontoTotalAlOrigen\", \"SaldoTotalActual\", \n",
    "                       \"TasaIntPromPondXsaldo\", \"PlazoProm\", \"MontoProm\"\n",
    "                      \"SaldoProm\"]\n",
    "ext = \".xlsx\""
   ]
  },
  {
   "cell_type": "code",
   "execution_count": null,
   "id": "fa67f5cd",
   "metadata": {},
   "outputs": [],
   "source": [
    "# Bucle para descargar todas las variables de multianalisis (cartera vigente)\n",
    "for x in range (1, 7):\n",
    "    #    \"Variable de interes\"\n",
    "    conf_todo = browser.find_element_by_xpath(\"/html/body/div[1]/div[1]/div[2]/div/div[1]/div[3]/nav/div/div/ul/li[5]/a\")\n",
    "    conf_todo.click()\n",
    "    time.sleep(1)\n",
    "    conf_todo = browser.find_element_by_xpath(\"/html/body/div[1]/div[1]/div[2]/div/div[1]/div[3]/nav/div/div/ul/li[5]/div/div/form/label[\"+str(x)+\"]\")\n",
    "    conf_todo.click()\n",
    "    time.sleep(1)\n",
    "    #    Genera gráfico \n",
    "    mouse = browser.find_element_by_xpath(\"/html/body/div[1]/div[1]/div[2]/div/div[1]/div[3]/nav/div/div/ul/li[7]/a/label\")\n",
    "    mouse.click()\n",
    "    time.sleep(8)\n",
    "    descargar = browser.find_element_by_xpath(\"/html/body/div[1]/div[1]/div[2]/div/div[1]/div[3]/div[2]/div[2]/input\")\n",
    "    descargar.click()\n",
    "    time.sleep(2)\n",
    "    # Selecciona todas las instituciones\n",
    "    descargar = browser.find_element_by_xpath(\"/html/body/div[1]/div[1]/div[2]/div/div[1]/div[4]/div/div/div[2]/div[1]/div/div[2]/label\")\n",
    "    descargar.click()\n",
    "    descargar = browser.find_element_by_xpath(\"/html/body/div[1]/div[1]/div[2]/div/div[1]/div[4]/div/div/div[2]/div[2]/button\")\n",
    "    descargar.click()\n",
    "    time.sleep(20)\n",
    "    list_of_files = glob.glob(directorio_descargas+r\"\\*\") \n",
    "    latest_file = max(list_of_files, key=os.path.getctime)\n",
    "    print(latest_file)\n",
    "    os.rename(latest_file, f\"{directorio_descargas}\\\\{sufijo}{nombres_de_archivos[x-1]}{ext}\")\n",
    "    conf_todo = browser.find_element_by_xpath(\"/html/body/div[1]/div[1]/div[2]/div/div[1]/div[3]/nav/div/div/ul/li[7]/a/img\")\n",
    "    conf_todo.click()\n",
    "    time.sleep(1)"
   ]
  },
  {
   "cell_type": "markdown",
   "id": "eb0de091",
   "metadata": {},
   "source": [
    "### Cartera vigente"
   ]
  },
  {
   "cell_type": "code",
   "execution_count": null,
   "id": "a8787e5e",
   "metadata": {},
   "outputs": [],
   "source": [
    "# Entra al apartado de tardejas de crédito\n",
    "browser.get(\"https://www.banxico.org.mx/PortalTranspCompSistFin/\")\n",
    "time.sleep(10)\n",
    "# A veces sale un mensaje de bienvenida en la página de Banxico. Con esto se continua a la página principal\n",
    "try:\n",
    "    btn_continuar = browser.find_element_by_xpath(\"/html/body/div[1]/div[2]/div/div/div[4]/button\")\n",
    "    btn_continuar.click()\n",
    "    print(\"Salió el mensaje de bienvenida\")\n",
    "except:\n",
    "    print(\"No salió el mensaje de bienvenida\")"
   ]
  },
  {
   "cell_type": "code",
   "execution_count": null,
   "id": "06462858",
   "metadata": {},
   "outputs": [],
   "source": [
    "# Botón de crédito personal y microcrédito\n",
    "btn_credito_personal_microcredito = browser.find_element_by_xpath(\"/html/body/div[1]/div[1]/div[2]/div/div[1]/div[3]/div[2]/div/div[2]/img\")\n",
    "btn_credito_personal_microcredito.click()"
   ]
  },
  {
   "cell_type": "code",
   "execution_count": null,
   "id": "251fc93e",
   "metadata": {},
   "outputs": [],
   "source": [
    "# Análisis multidimensional\n",
    "mouse = browser.find_element_by_xpath(\"/html/body/div[1]/div[1]/div[2]/div/div[1]/div[3]/div[2]/div[2]/div/div[5]/p[3]/a\")\n",
    "mouse.click() # Para entrar a análisis multidimensional\n",
    "time.sleep(10)\n",
    "# Configurar en todo\n",
    "mouse = browser.find_element_by_xpath(\"/html/body/div[1]/div[1]/div[2]/div/div[1]/div[3]/nav/div/div/ul/li[1]/a\")\n",
    "mouse.click() # Universo de análsis\n",
    "time.sleep(1)\n",
    "mouse = browser.find_element_by_xpath(\"/html/body/div[1]/div[1]/div[2]/div/div[1]/div[3]/nav/div/div/ul/li[1]/div/div/div[2]/div/div/button[1]\")\n",
    "mouse.click() # Universo de análsis - Todo\n",
    "time.sleep(1)\n",
    "\n",
    "mouse = browser.find_element_by_xpath(\"/html/body/div[1]/div[1]/div[2]/div/div[1]/div[3]/nav/div/div/ul/li[1]/div/div/div[4]/div[5]/form/input[2]\")\n",
    "mouse.click() # Tipo de cartera - Vencida\n",
    "time.sleep(1)\n",
    "\n",
    "mouse = browser.find_element_by_xpath(\"/html/body/div[1]/div[1]/div[2]/div/div[1]/div[3]/nav/div/div/ul/li[2]/a\")\n",
    "mouse.click() # Tipo de crédito\n",
    "time.sleep(1)\n",
    "#mouse = browser.find_element_by_xpath(\"/html/body/div[1]/div[1]/div[2]/div/div[1]/div[3]/nav/div/div/ul/li[2]/div/div/div[2]/div/button[2]\")\n",
    "#mouse.click() # Tipo de crédito - Personal\n",
    "time.sleep(1)\n"
   ]
  },
  {
   "cell_type": "code",
   "execution_count": null,
   "id": "7eb0f3fc",
   "metadata": {},
   "outputs": [],
   "source": [
    "sufijo= \"CreditoPersonalAnalisisMultidimensional_CarteraVencida\"\n",
    "nombres_de_archivos = [\"NumCreditos\", \"MontoTotalAlOrigen\", \"SaldoTotalActual\", \n",
    "                       \"TasaIntPromPondXsaldo\", \"PlazoProm\", \"MontoProm\"\n",
    "                      \"SaldoProm\"]\n",
    "ext = \".xlsx\""
   ]
  },
  {
   "cell_type": "code",
   "execution_count": null,
   "id": "a703758e",
   "metadata": {},
   "outputs": [],
   "source": [
    "# Bucle para descargar todas las variables de multianalisis (cartera vigente)\n",
    "for x in range (1, 7):\n",
    "    #    \"Variable de interes\"\n",
    "    conf_todo = browser.find_element_by_xpath(\"/html/body/div[1]/div[1]/div[2]/div/div[1]/div[3]/nav/div/div/ul/li[5]/a\")\n",
    "    conf_todo.click()\n",
    "    time.sleep(1)\n",
    "    conf_todo = browser.find_element_by_xpath(\"/html/body/div[1]/div[1]/div[2]/div/div[1]/div[3]/nav/div/div/ul/li[5]/div/div/form/label[\"+str(x)+\"]\")\n",
    "    conf_todo.click()\n",
    "    time.sleep(1)\n",
    "    #    Genera gráfico \n",
    "    mouse = browser.find_element_by_xpath(\"/html/body/div[1]/div[1]/div[2]/div/div[1]/div[3]/nav/div/div/ul/li[7]/a/label\")\n",
    "    mouse.click()\n",
    "    time.sleep(8)\n",
    "    descargar = browser.find_element_by_xpath(\"/html/body/div[1]/div[1]/div[2]/div/div[1]/div[3]/div[2]/div[2]/input\")\n",
    "    descargar.click()\n",
    "    time.sleep(2)\n",
    "    # Selecciona todas las instituciones\n",
    "    descargar = browser.find_element_by_xpath(\"/html/body/div[1]/div[1]/div[2]/div/div[1]/div[4]/div/div/div[2]/div[1]/div/div[2]/label\")\n",
    "    descargar.click()\n",
    "    descargar = browser.find_element_by_xpath(\"/html/body/div[1]/div[1]/div[2]/div/div[1]/div[4]/div/div/div[2]/div[2]/button\")\n",
    "    descargar.click()\n",
    "    time.sleep(20)\n",
    "    list_of_files = glob.glob(directorio_descargas+r\"\\*\") \n",
    "    latest_file = max(list_of_files, key=os.path.getctime)\n",
    "    print(latest_file)\n",
    "    os.rename(latest_file, f\"{directorio_descargas}\\\\{sufijo}{nombres_de_archivos[x-1]}{ext}\")\n",
    "    conf_todo = browser.find_element_by_xpath(\"/html/body/div[1]/div[1]/div[2]/div/div[1]/div[3]/nav/div/div/ul/li[7]/a/img\")\n",
    "    conf_todo.click()\n",
    "    time.sleep(1)"
   ]
  },
  {
   "cell_type": "markdown",
   "id": "2dfa2373",
   "metadata": {},
   "source": [
    "### Series de tiempo"
   ]
  },
  {
   "cell_type": "code",
   "execution_count": null,
   "id": "8bbdca65",
   "metadata": {},
   "outputs": [],
   "source": [
    "# Entra al apartado de tardejas de crédito\n",
    "browser.get(\"https://www.banxico.org.mx/PortalTranspCompSistFin/\")\n",
    "time.sleep(10)\n",
    "# A veces sale un mensaje de bienvenida en la página de Banxico. Con esto se continua a la página principal\n",
    "try:\n",
    "    btn_continuar = browser.find_element_by_xpath(\"/html/body/div[1]/div[2]/div/div/div[4]/button\")\n",
    "    btn_continuar.click()\n",
    "    print(\"Salió el mensaje de bienvenida\")\n",
    "except:\n",
    "    print(\"No salió el mensaje de bienvenida\")"
   ]
  },
  {
   "cell_type": "code",
   "execution_count": null,
   "id": "3eff910a",
   "metadata": {},
   "outputs": [],
   "source": [
    "# Botón de crédito personal y microcrédito\n",
    "btn_credito_personal_microcredito = browser.find_element_by_xpath(\"/html/body/div[1]/div[1]/div[2]/div/div[1]/div[3]/div[2]/div/div[2]/img\")\n",
    "btn_credito_personal_microcredito.click()"
   ]
  },
  {
   "cell_type": "markdown",
   "id": "b2fa0118",
   "metadata": {},
   "source": [
    "### Series de tiempo"
   ]
  },
  {
   "cell_type": "code",
   "execution_count": null,
   "id": "efd00ac5",
   "metadata": {},
   "outputs": [],
   "source": [
    "# Series de tiempo\n",
    "mouse = browser.find_element_by_xpath(\"/html/body/div[1]/div[1]/div[2]/div/div[1]/div[3]/div[2]/div[1]/div/div[5]/p[3]/a\")\n",
    "mouse.click() # Para entrar a series de tiempo\n",
    "time.sleep(10)\n",
    "# Configurar en todo\n",
    "mouse = browser.find_element_by_xpath(\"/html/body/div[1]/div[1]/div[2]/div/div[1]/div[3]/div[2]/nav/div/div/ul/li[1]/a\")\n",
    "mouse.click() # Universo de análsis\n",
    "time.sleep(1)\n",
    "mouse = browser.find_element_by_xpath(\"/html/body/div[1]/div[1]/div[2]/div/div[1]/div[3]/div[2]/nav/div/div/ul/li[1]/div/div/div[2]/div/div/button[1]\")\n",
    "mouse.click() # Universo de análsis - Todo\n",
    "time.sleep(1)\n",
    "\n",
    "mouse = browser.find_element_by_xpath(\"/html/body/div[1]/div[1]/div[2]/div/div[1]/div[3]/div[2]/nav/div/div/ul/li[1]/div/div/div[4]/div[5]/form/input[1]\")\n",
    "mouse.click() # Tipo de cartera - Vigente\n",
    "time.sleep(1)\n",
    "\n",
    "mouse = browser.find_element_by_xpath(\"/html/body/div[1]/div[1]/div[2]/div/div[1]/div[3]/div[2]/nav/div/div/ul/li[2]/a\")\n",
    "mouse.click() # Tipo de crédito\n",
    "time.sleep(1)\n",
    "#mouse = browser.find_element_by_xpath(\"/html/body/div[1]/div[1]/div[2]/div/div[1]/div[3]/div[2]/nav/div/div/ul/li[2]/div/div/div[2]/div/button[3]\")\n",
    "#mouse.click() # Tipo de crédito - personal\n",
    "time.sleep(1)\n"
   ]
  },
  {
   "cell_type": "code",
   "execution_count": null,
   "id": "7df01546",
   "metadata": {},
   "outputs": [],
   "source": [
    "sufijo= \"SeriesDeTiempo_CarteraVencida\"\n",
    "nombres_de_archivos = [\"TasaIntPromSimple\", \"TasaIntPromPondXsaldo\",\"PlazoProm\",\n",
    "                       \"MontoProm\", \"SaldoTotalActual\", \"SaldoProm\", \"NumCreditos\"\n",
    "                       ]\n",
    "ext = \".xlsx\""
   ]
  },
  {
   "cell_type": "code",
   "execution_count": null,
   "id": "fed1edbb",
   "metadata": {},
   "outputs": [],
   "source": [
    "# Bucle para descargar todas las variables de serie de tiempo(cartera vigente)\n",
    "for x in range (1, 7):\n",
    "    #    \"Variable de interes\"\n",
    "    conf_todo = browser.find_element_by_xpath(\"/html/body/div[1]/div[1]/div[2]/div/div[1]/div[3]/div[2]/nav/div/div/ul/li[4]/a\")\n",
    "    conf_todo.click()\n",
    "    time.sleep(1)\n",
    "    conf_todo = browser.find_element_by_xpath(\"/html/body/div[1]/div[1]/div[2]/div/div[1]/div[3]/div[2]/nav/div/div/ul/li[4]/div/div/form/label[\"+str(x)+\"]\")\n",
    "    conf_todo.click()\n",
    "    time.sleep(1)\n",
    "    #    Genera gráfico \n",
    "    mouse = browser.find_element_by_xpath(\"/html/body/div[1]/div[1]/div[2]/div/div[1]/div[3]/div[2]/nav/div/div/ul/li[6]/a/label\")\n",
    "    mouse.click()\n",
    "    time.sleep(8)\n",
    "    descargar = browser.find_element_by_xpath(\"/html/body/div[1]/div[1]/div[2]/div/div[1]/div[3]/div[2]/div/div[2]/input\")\n",
    "    descargar.click()\n",
    "    time.sleep(2)\n",
    "    # Selecciona todas las instituciones\n",
    "    descargar = browser.find_element_by_xpath(\"/html/body/div[1]/div[1]/div[2]/div/div[1]/div[4]/div/div/div[2]/div[1]/div/div[2]/label\")\n",
    "    descargar.click()\n",
    "    descargar = browser.find_element_by_xpath(\"/html/body/div[1]/div[1]/div[2]/div/div[1]/div[4]/div/div/div[2]/div[2]/button\")\n",
    "    descargar.click()\n",
    "    time.sleep(20)\n",
    "    list_of_files = glob.glob(directorio_descargas+r\"\\*\") \n",
    "    latest_file = max(list_of_files, key=os.path.getctime)\n",
    "    print(latest_file)\n",
    "    os.rename(latest_file, f\"{directorio_descargas}\\\\{sufijo}{nombres_de_archivos[x-1]}{ext}\")\n",
    "    conf_todo = browser.find_element_by_xpath(\"/html/body/div[1]/div[1]/div[2]/div/div[1]/div[3]/div[2]/nav/div/div/ul/li[6]/a/img\")\n",
    "    conf_todo.click()\n",
    "    time.sleep(1)"
   ]
  },
  {
   "cell_type": "code",
   "execution_count": null,
   "id": "8cbf16f6",
   "metadata": {},
   "outputs": [],
   "source": []
  }
 ],
 "metadata": {
  "kernelspec": {
   "display_name": "Python 3",
   "language": "python",
   "name": "python3"
  },
  "language_info": {
   "codemirror_mode": {
    "name": "ipython",
    "version": 3
   },
   "file_extension": ".py",
   "mimetype": "text/x-python",
   "name": "python",
   "nbconvert_exporter": "python",
   "pygments_lexer": "ipython3",
   "version": "3.8.8"
  }
 },
 "nbformat": 4,
 "nbformat_minor": 5
}
