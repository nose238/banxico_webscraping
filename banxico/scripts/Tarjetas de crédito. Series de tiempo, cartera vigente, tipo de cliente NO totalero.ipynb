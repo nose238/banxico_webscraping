{
 "cells": [
  {
   "cell_type": "markdown",
   "id": "d1bd9bc2",
   "metadata": {},
   "source": [
    "# Descarga Series de tiempo de Tarjetas de crédito, cartera vigente, tipo de cliente NO totalero"
   ]
  },
  {
   "cell_type": "code",
   "execution_count": 1,
   "id": "88a04f17",
   "metadata": {},
   "outputs": [],
   "source": [
    "from selenium import webdriver\n",
    "from selenium.webdriver.support.ui import WebDriverWait\n",
    "from selenium.webdriver.support import expected_conditions as EC\n",
    "from selenium.webdriver.common.by import By\n",
    "from selenium.common.exceptions import TimeoutException\n",
    "from selenium.webdriver.common.keys import Keys\n",
    "from selenium.webdriver.common.by import By\n",
    "import time\n",
    "import glob\n",
    "import os"
   ]
  },
  {
   "cell_type": "markdown",
   "id": "0407baee",
   "metadata": {},
   "source": [
    "#### Preparación de los parámetros a utilizar"
   ]
  },
  {
   "cell_type": "code",
   "execution_count": 2,
   "id": "6c9cee20",
   "metadata": {},
   "outputs": [],
   "source": [
    "# Descargar chromedriver: https://sites.google.com/a/chromium.org/chromedriver/downloads\n",
    "\n",
    "directorio_descargas = r\"E:\\Users\\emarquezf\\Desktop\\BANXICO\\web scraping\\banxico\\descargas\\tarjetasCredito\\seriesDeTiempo\\carteraVigente\\clienteNOTotalero\"\n",
    "chromedriver = r\"E:\\Users\\emarquezf\\Desktop\\BANXICO\\web scraping\\banxico\\chromedriver_win32\\chromedriver.exe\"\n",
    "delay = 30 # La cantidad máxima de segundos que python esperará para que cargue la página. Si tarda más dará error\n",
    "\n",
    "\n",
    "\n",
    "chromeOptions = webdriver.ChromeOptions()\n",
    "prefs = {\"download.default_directory\" : directorio_descargas, \n",
    "         \"directory_upgrade\": True,\n",
    "        \"profile.default_content_setting_values.automatic_downloads\": 1 # para poder descargar automáticamente \n",
    "        }\n",
    "chromeOptions.add_experimental_option(\"prefs\", prefs)\n",
    "chromeOptions.add_argument(\"--start-maximized\")\n",
    "browser = webdriver.Chrome(executable_path=chromedriver, options=chromeOptions)\n",
    "browser.get(\"https://www.banxico.org.mx/PortalTranspCompSistFin/\")\n",
    "time.sleep(10)"
   ]
  },
  {
   "cell_type": "code",
   "execution_count": 3,
   "id": "ba4c8159",
   "metadata": {},
   "outputs": [],
   "source": [
    "# Si no existe el directorio lo crea\n",
    "if not os.path.exists(directorio_descargas):\n",
    "    os.makedirs(directorio_descargas)"
   ]
  },
  {
   "cell_type": "code",
   "execution_count": 4,
   "id": "843d2223",
   "metadata": {},
   "outputs": [],
   "source": [
    "# Eliminia archivos anteriores, si hay nombres iguales, dará error.\n",
    "for f in os.listdir(directorio_descargas):\n",
    "    os.remove(os.path.join(directorio_descargas, f))"
   ]
  },
  {
   "cell_type": "code",
   "execution_count": 5,
   "id": "29838023",
   "metadata": {},
   "outputs": [
    {
     "name": "stdout",
     "output_type": "stream",
     "text": [
      "Salió el mensaje de bienvenida\n"
     ]
    }
   ],
   "source": [
    "# A veces sale un mensaje de bienvenida en la página de Banxico. Con esto se continua a la página principal\n",
    "try:\n",
    "    myElem = browser.find_element_by_xpath(\"/html/body/div[1]/div[2]/div/div/div[4]/button\")\n",
    "    myElem.click()\n",
    "    print(\"Salió el mensaje de bienvenida\")\n",
    "    time.sleep(10)\n",
    "except:\n",
    "    print(\"No salió el mensaje de bienvenida\")"
   ]
  },
  {
   "cell_type": "markdown",
   "id": "0f4e9c3d",
   "metadata": {},
   "source": [
    "#### Entrando a Tarjetas de crédito"
   ]
  },
  {
   "cell_type": "code",
   "execution_count": 6,
   "id": "ec1fea69",
   "metadata": {},
   "outputs": [
    {
     "name": "stdout",
     "output_type": "stream",
     "text": [
      "OK, continuando!\n"
     ]
    }
   ],
   "source": [
    "# Entra al apartado de tardejas de crédito a través del botón\n",
    "try:\n",
    "    myElem = WebDriverWait(browser, delay).until(EC.presence_of_element_located((By.XPATH, \"/html/body/div[1]/div[1]/div[2]/div/div[1]/div[3]/div[2]/div/div[1]/img\")))\n",
    "    myElem.click()\n",
    "    print (\"OK, continuando!\")\n",
    "except TimeoutException:\n",
    "    print (\"!!!!!!!!!!!!!!!!!!!!!!!!!!!!!!!!!!!!!!!!!!!!!!!!!!!!!!!!!!!!!!!!!!!!\")\n",
    "    print (\"No se pudo encontrar el elemnento especificado. Revisa la conexión\")\n",
    "    print (\"!!!!!!!!!!!!!!!!!!!!!!!!!!!!!!!!!!!!!!!!!!!!!!!!!!!!!!!!!!!!!!!!!!!!\")\n",
    "    print (\"PROGRAMA TERMINADO\")\n",
    "    exit()\n",
    "time.sleep(5)"
   ]
  },
  {
   "cell_type": "code",
   "execution_count": 7,
   "id": "17123b00",
   "metadata": {},
   "outputs": [
    {
     "name": "stdout",
     "output_type": "stream",
     "text": [
      "OK, continuando!\n"
     ]
    }
   ],
   "source": [
    "# Entra al detalle de Series de tiempo de variables e instituciones\n",
    "try:\n",
    "    myElem = WebDriverWait(browser, delay).until(EC.presence_of_element_located((By.XPATH, \"/html/body/div[1]/div[1]/div[2]/div/div[1]/div[3]/div[2]/div[1]/div/div[5]/p[3]/a\")))\n",
    "    myElem.click()\n",
    "    print (\"OK, continuando!\")\n",
    "except TimeoutException:\n",
    "    print (\"!!!!!!!!!!!!!!!!!!!!!!!!!!!!!!!!!!!!!!!!!!!!!!!!!!!!!!!!!!!]!!!!!!!!!\")\n",
    "    print (\"No se pudo encontrar el elemnento especificado. Revisa la conexión\")\n",
    "    print (\"!!!!!!!!!!!!!!!!!!!!!!!!!!!!!!!!!!!!!!!!!!!!!!!!!!!!!!!!!!!!!!!!!!!!\")\n",
    "    print (\"PROGRAMA TERMINADO\")\n",
    "    exit()\n",
    "time.sleep(10)"
   ]
  },
  {
   "cell_type": "markdown",
   "id": "2d8510cd",
   "metadata": {},
   "source": [
    "## Configuración de las variables para las descargas"
   ]
  },
  {
   "cell_type": "markdown",
   "id": "e4511c40",
   "metadata": {},
   "source": [
    "#### Descarga series de tiempo de tarjeta de crédito cartera vigente, tipo de cliente NO totalero"
   ]
  },
  {
   "cell_type": "code",
   "execution_count": 8,
   "id": "1889de18",
   "metadata": {},
   "outputs": [
    {
     "name": "stdout",
     "output_type": "stream",
     "text": [
      "OK, continuando!\n"
     ]
    }
   ],
   "source": [
    "try:\n",
    "    #    \"Universo de análisis\"\n",
    "    myElem = WebDriverWait(browser, delay).until(EC.presence_of_element_located((By.XPATH, \"/html/body/div[1]/div[1]/div[2]/div/div[1]/div[3]/div[2]/nav/div/div/ul/li[1]/a\")))\n",
    "    myElem.click()\n",
    "    myElem = WebDriverWait(browser, delay).until(EC.presence_of_element_located((By.XPATH, \"/html/body/div[1]/div[1]/div[2]/div/div[1]/div[3]/div[2]/nav/div/div/ul/li[1]/div/div/div[2]/div/div/button[1]\")))\n",
    "    myElem.click()  # Todo\n",
    "    myElem = WebDriverWait(browser, delay).until(EC.presence_of_element_located((By.XPATH, \"/html/body/div[1]/div[1]/div[2]/div/div[1]/div[3]/div[2]/nav/div/div/ul/li[1]/div/div/div[4]/div[6]/form/input[1]\")))\n",
    "    myElem.click()  # Cartera vigente\n",
    "    \n",
    "    \n",
    "    #    \"Tipo de cliente\"\n",
    "    myElem = WebDriverWait(browser, delay).until(EC.presence_of_element_located((By.XPATH, \"/html/body/div[1]/div[1]/div[2]/div/div[1]/div[3]/div[2]/nav/div/div/ul/li[2]/a\")))\n",
    "    myElem.click()\n",
    "    myElem = WebDriverWait(browser, delay).until(EC.presence_of_element_located((By.XPATH, \"/html/body/div[1]/div[1]/div[2]/div/div[1]/div[3]/div[2]/nav/div/div/ul/li[2]/div/div/div[2]/div/button[2]\")))\n",
    "    myElem.click() # NO Totalero\n",
    "    \n",
    "    #     \"Clase de tarjeta\"\n",
    "    myElem = WebDriverWait(browser, delay).until(EC.presence_of_element_located((By.XPATH, \"/html/body/div[1]/div[1]/div[2]/div/div[1]/div[3]/div[2]/nav/div/div/ul/li[3]/a\")))\n",
    "    myElem.click()\n",
    "    myElem = WebDriverWait(browser, delay).until(EC.presence_of_element_located((By.XPATH, \"/html/body/div[1]/div[1]/div[2]/div/div[1]/div[3]/div[2]/nav/div/div/ul/li[3]/div/div/div[2]/div/button[3]\")))\n",
    "    myElem.click() # Oro\n",
    "    print (\"OK, continuando!\")\n",
    "except TimeoutException:\n",
    "    print (\"!!!!!!!!!!!!!!!!!!!!!!!!!!!!!!!!!!!!!!!!!!!!!!!!!!!!!!!!!!!!!!!!!!!!\")\n",
    "    print (\"No se pudo encontrar el elemnento especificado. Revisa la conexión\")\n",
    "    print (\"!!!!!!!!!!!!!!!!!!!!!!!!!!!!!!!!!!!!!!!!!!!!!!!!!!!!!!!!!!!!!!!!!!!!\")\n",
    "    print (\"PROGRAMA TERMINADO\")\n",
    "    exit()"
   ]
  },
  {
   "cell_type": "markdown",
   "id": "66d242fb",
   "metadata": {},
   "source": [
    "#### Configura nombres de archivos"
   ]
  },
  {
   "cell_type": "code",
   "execution_count": 9,
   "id": "b5d09305",
   "metadata": {},
   "outputs": [],
   "source": [
    "sufijo = \"SeriesDeTiempo(cartera_vigente_clienteNOTotalero)_\"\n",
    "nombres_de_archivos = [\"numeroDeTarjetas\", \"saldoTotal\", \"saldoRevolventePromedio\", \"saldoPromedioPMSI\",\n",
    "                       \"saldoPromedioPMCI\", \"limiteDeCreditoProm\", \"TEsinPromociones\", \"TEconPromociones\",\n",
    "                       \"TE_PCI\", \"CATpromPondXsaldo\"]\n",
    "ext = \".xlsx\""
   ]
  },
  {
   "cell_type": "markdown",
   "id": "db4c422d",
   "metadata": {},
   "source": [
    "## Bucle para descargar cada una de las variables con la configuración dada anteriormente"
   ]
  },
  {
   "cell_type": "code",
   "execution_count": 10,
   "id": "d8e688d1",
   "metadata": {},
   "outputs": [
    {
     "name": "stdout",
     "output_type": "stream",
     "text": [
      "OK, continuando! archivo 1 descargado\n",
      "Archivo 1: E:\\Users\\emarquezf\\Desktop\\BANXICO\\web scraping\\banxico\\descargas\\tarjetasCredito\\seriesDeTiempo\\carteraVigente\\clienteNOTotalero\\SeriesDeTiempo_20211019_112949.xlsx\n",
      "Renombrado a: E:\\Users\\emarquezf\\Desktop\\BANXICO\\web scraping\\banxico\\descargas\\tarjetasCredito\\seriesDeTiempo\\carteraVigente\\clienteNOTotalero\\SeriesDeTiempo(cartera_vigente_clienteNOTotalero)_numeroDeTarjetas.xlsx\n",
      "OK, continuando! archivo 2 descargado\n",
      "Archivo 2: E:\\Users\\emarquezf\\Desktop\\BANXICO\\web scraping\\banxico\\descargas\\tarjetasCredito\\seriesDeTiempo\\carteraVigente\\clienteNOTotalero\\SeriesDeTiempo_20211019_113010.xlsx\n",
      "Renombrado a: E:\\Users\\emarquezf\\Desktop\\BANXICO\\web scraping\\banxico\\descargas\\tarjetasCredito\\seriesDeTiempo\\carteraVigente\\clienteNOTotalero\\SeriesDeTiempo(cartera_vigente_clienteNOTotalero)_saldoTotal.xlsx\n",
      "OK, continuando! archivo 3 descargado\n",
      "Archivo 3: E:\\Users\\emarquezf\\Desktop\\BANXICO\\web scraping\\banxico\\descargas\\tarjetasCredito\\seriesDeTiempo\\carteraVigente\\clienteNOTotalero\\SeriesDeTiempo_20211019_113030.xlsx\n",
      "Renombrado a: E:\\Users\\emarquezf\\Desktop\\BANXICO\\web scraping\\banxico\\descargas\\tarjetasCredito\\seriesDeTiempo\\carteraVigente\\clienteNOTotalero\\SeriesDeTiempo(cartera_vigente_clienteNOTotalero)_saldoRevolventePromedio.xlsx\n",
      "OK, continuando! archivo 4 descargado\n",
      "Archivo 4: E:\\Users\\emarquezf\\Desktop\\BANXICO\\web scraping\\banxico\\descargas\\tarjetasCredito\\seriesDeTiempo\\carteraVigente\\clienteNOTotalero\\SeriesDeTiempo_20211019_113050.xlsx\n",
      "Renombrado a: E:\\Users\\emarquezf\\Desktop\\BANXICO\\web scraping\\banxico\\descargas\\tarjetasCredito\\seriesDeTiempo\\carteraVigente\\clienteNOTotalero\\SeriesDeTiempo(cartera_vigente_clienteNOTotalero)_saldoPromedioPMSI.xlsx\n",
      "OK, continuando! archivo 5 descargado\n",
      "Archivo 5: E:\\Users\\emarquezf\\Desktop\\BANXICO\\web scraping\\banxico\\descargas\\tarjetasCredito\\seriesDeTiempo\\carteraVigente\\clienteNOTotalero\\SeriesDeTiempo_20211019_113111.xlsx\n",
      "Renombrado a: E:\\Users\\emarquezf\\Desktop\\BANXICO\\web scraping\\banxico\\descargas\\tarjetasCredito\\seriesDeTiempo\\carteraVigente\\clienteNOTotalero\\SeriesDeTiempo(cartera_vigente_clienteNOTotalero)_saldoPromedioPMCI.xlsx\n",
      "OK, continuando! archivo 6 descargado\n",
      "Archivo 6: E:\\Users\\emarquezf\\Desktop\\BANXICO\\web scraping\\banxico\\descargas\\tarjetasCredito\\seriesDeTiempo\\carteraVigente\\clienteNOTotalero\\SeriesDeTiempo_20211019_113131.xlsx\n",
      "Renombrado a: E:\\Users\\emarquezf\\Desktop\\BANXICO\\web scraping\\banxico\\descargas\\tarjetasCredito\\seriesDeTiempo\\carteraVigente\\clienteNOTotalero\\SeriesDeTiempo(cartera_vigente_clienteNOTotalero)_limiteDeCreditoProm.xlsx\n",
      "OK, continuando! archivo 7 descargado\n",
      "Archivo 7: E:\\Users\\emarquezf\\Desktop\\BANXICO\\web scraping\\banxico\\descargas\\tarjetasCredito\\seriesDeTiempo\\carteraVigente\\clienteNOTotalero\\SeriesDeTiempo_20211019_113152.xlsx\n",
      "Renombrado a: E:\\Users\\emarquezf\\Desktop\\BANXICO\\web scraping\\banxico\\descargas\\tarjetasCredito\\seriesDeTiempo\\carteraVigente\\clienteNOTotalero\\SeriesDeTiempo(cartera_vigente_clienteNOTotalero)_TEsinPromociones.xlsx\n",
      "OK, continuando! archivo 8 descargado\n",
      "Archivo 8: E:\\Users\\emarquezf\\Desktop\\BANXICO\\web scraping\\banxico\\descargas\\tarjetasCredito\\seriesDeTiempo\\carteraVigente\\clienteNOTotalero\\SeriesDeTiempo_20211019_113212.xlsx\n",
      "Renombrado a: E:\\Users\\emarquezf\\Desktop\\BANXICO\\web scraping\\banxico\\descargas\\tarjetasCredito\\seriesDeTiempo\\carteraVigente\\clienteNOTotalero\\SeriesDeTiempo(cartera_vigente_clienteNOTotalero)_TEconPromociones.xlsx\n",
      "OK, continuando! archivo 9 descargado\n",
      "Archivo 9: E:\\Users\\emarquezf\\Desktop\\BANXICO\\web scraping\\banxico\\descargas\\tarjetasCredito\\seriesDeTiempo\\carteraVigente\\clienteNOTotalero\\SeriesDeTiempo_20211019_113232.xlsx\n",
      "Renombrado a: E:\\Users\\emarquezf\\Desktop\\BANXICO\\web scraping\\banxico\\descargas\\tarjetasCredito\\seriesDeTiempo\\carteraVigente\\clienteNOTotalero\\SeriesDeTiempo(cartera_vigente_clienteNOTotalero)_TE_PCI.xlsx\n",
      "OK, continuando! archivo 10 descargado\n",
      "Archivo 10: E:\\Users\\emarquezf\\Desktop\\BANXICO\\web scraping\\banxico\\descargas\\tarjetasCredito\\seriesDeTiempo\\carteraVigente\\clienteNOTotalero\\SeriesDeTiempo_20211019_113252.xlsx\n",
      "Renombrado a: E:\\Users\\emarquezf\\Desktop\\BANXICO\\web scraping\\banxico\\descargas\\tarjetasCredito\\seriesDeTiempo\\carteraVigente\\clienteNOTotalero\\SeriesDeTiempo(cartera_vigente_clienteNOTotalero)_CATpromPondXsaldo.xlsx\n"
     ]
    }
   ],
   "source": [
    "# Bucle para descargar todas las variables de series de tiempo\n",
    "browser.execute_script(\"document.body.style.zoom='50%'\") # Debido al zoom, cambia la instruccion de click\n",
    "# y ahora usamos browser.execute_script(\"arguments[0].click();\", myElem). De otra forma no funciona\n",
    "for i in range (1, 11):\n",
    "        # Entra al detalle de Series de tiempo de variables e instituciones\n",
    "    try:\n",
    "        #    \"Menú Variable de interes\"\n",
    "        myElem = WebDriverWait(browser, delay).until(EC.presence_of_element_located((By.XPATH, \"/html/body/div[1]/div[1]/div[2]/div/div[1]/div[3]/div[2]/nav/div/div/ul/li[5]/a\")))\n",
    "        browser.execute_script(\"arguments[0].click();\", myElem)\n",
    "        #    Selecciona cada una de las variables de interés\n",
    "        myElem = WebDriverWait(browser, delay).until(EC.presence_of_element_located((By.XPATH, \"/html/body/div[1]/div[1]/div[2]/div/div[1]/div[3]/div[2]/nav/div/div/ul/li[5]/div/div/form/label[\"+str(i)+\"]\")))\n",
    "        browser.execute_script(\"arguments[0].click();\", myElem)\n",
    "        \n",
    "        # Genera gráfico \n",
    "        myElem = WebDriverWait(browser, delay).until(EC.presence_of_element_located((By.XPATH, \"/html/body/div[1]/div[1]/div[2]/div/div[1]/div[3]/div[2]/nav/div/div/ul/li[7]/a/label\")))\n",
    "        browser.execute_script(\"arguments[0].click();\", myElem)\n",
    "        time.sleep(5)\n",
    "        \n",
    "        # Botón de descarga\n",
    "        myElem = WebDriverWait(browser, delay).until(EC.presence_of_element_located((By.XPATH, \"/html/body/div[1]/div[1]/div[2]/div/div[1]/div[3]/div[2]/div/div[2]/input\")))\n",
    "        browser.execute_script(\"arguments[0].click();\", myElem)\n",
    "        time.sleep(5)\n",
    "        \n",
    "        # Selecciona todas las instituciones\n",
    "        myElem = WebDriverWait(browser, delay).until(EC.presence_of_element_located((By.XPATH, \"/html/body/div[1]/div[1]/div[2]/div/div[1]/div[4]/div/div/div[2]/div[1]/div/div[2]/label\")))\n",
    "        browser.execute_script(\"arguments[0].click();\", myElem)\n",
    "        myElem = WebDriverWait(browser, delay).until(EC.presence_of_element_located((By.XPATH, \"/html/body/div[1]/div[1]/div[2]/div/div[1]/div[4]/div/div/div[2]/div[2]/button\")))\n",
    "        browser.execute_script(\"arguments[0].click();\", myElem)\n",
    "        \n",
    "        print (\"OK, continuando! archivo \" + str(i) + \" descargado\")\n",
    "        \n",
    "    except TimeoutException:\n",
    "        print (\"!!!!!!!!!!!!!!!!!!!!!!!!!!!!!!!!!!!!!!!!!!!!!!!!!!!!!!!!!!!!!!!!!!!!\")\n",
    "        print (\"No se pudo encontrar el elemnento especificado. Revisa la conexión\")\n",
    "        print (\"!!!!!!!!!!!!!!!!!!!!!!!!!!!!!!!!!!!!!!!!!!!!!!!!!!!!!!!!!!!!!!!!!!!!\")\n",
    "        print (\"PROGRAMA TERMINADO\")\n",
    "        exit()\n",
    "        \n",
    "    time.sleep(10)\n",
    "    list_of_files = glob.glob(directorio_descargas+r\"\\*\") \n",
    "    latest_file = max(list_of_files, key=os.path.getctime)\n",
    "    print(\"Archivo \" + str(i) + \": \" + latest_file)\n",
    "    os.rename(latest_file, f\"{directorio_descargas}\\\\{sufijo}{nombres_de_archivos[i-1]}{ext}\")\n",
    "    print(\"Renombrado a: \" + f\"{directorio_descargas}\\\\{sufijo}{nombres_de_archivos[i-1]}{ext}\")"
   ]
  },
  {
   "cell_type": "code",
   "execution_count": null,
   "id": "e13840eb",
   "metadata": {},
   "outputs": [],
   "source": []
  }
 ],
 "metadata": {
  "kernelspec": {
   "display_name": "Python 3",
   "language": "python",
   "name": "python3"
  },
  "language_info": {
   "codemirror_mode": {
    "name": "ipython",
    "version": 3
   },
   "file_extension": ".py",
   "mimetype": "text/x-python",
   "name": "python",
   "nbconvert_exporter": "python",
   "pygments_lexer": "ipython3",
   "version": "3.8.8"
  }
 },
 "nbformat": 4,
 "nbformat_minor": 5
}
